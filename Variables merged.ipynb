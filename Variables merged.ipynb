{
 "cells": [
  {
   "cell_type": "code",
   "execution_count": 1,
   "metadata": {},
   "outputs": [],
   "source": [
    "import pandas as pd"
   ]
  },
  {
   "cell_type": "code",
   "execution_count": 2,
   "metadata": {},
   "outputs": [],
   "source": [
    "dfincome = pd.read_csv(\"Income_election_version.csv\", index_col = 0)\n",
    "dfbankrupt = pd.read_csv(\"Bankruptcies_election_version.csv\", index_col = 0)\n",
    "dfkerncijfers = pd.read_csv(\"Kerncijfers_VERSION.csv\", index_col = 0)\n",
    "dfpopdens = pd.read_csv(\"Popdens_Election_Version.csv\", index_col = 0)\n",
    "dfunemp =  pd.read_csv(\"Unemp_election_version.csv\", index_col = 0)\n",
    "dflabforce = pd.read_csv(\"Labforce_election_version.csv\", index_col = 0)"
   ]
  },
  {
   "cell_type": "code",
   "execution_count": 3,
   "metadata": {},
   "outputs": [],
   "source": [
    "dflist = [dfincome, dfbankrupt, dfpopdens, dfunemp, dflabforce]\n",
    "dfvariables = dfkerncijfers\n",
    "for i in dflist:\n",
    "    i = i.set_index(\"Regiocode\")\n",
    "    dfvariables = dfvariables.merge(i, on = \"Regiocode\", how = \"outer\")"
   ]
  },
  {
   "cell_type": "code",
   "execution_count": 22,
   "metadata": {},
   "outputs": [],
   "source": [
    "dfvariables.to_csv(\"DFVARIABLES_VERSION.csv\")"
   ]
  },
  {
   "cell_type": "code",
   "execution_count": null,
   "metadata": {},
   "outputs": [],
   "source": []
  }
 ],
 "metadata": {
  "kernelspec": {
   "display_name": "Python 3",
   "language": "python",
   "name": "python3"
  },
  "language_info": {
   "codemirror_mode": {
    "name": "ipython",
    "version": 3
   },
   "file_extension": ".py",
   "mimetype": "text/x-python",
   "name": "python",
   "nbconvert_exporter": "python",
   "pygments_lexer": "ipython3",
   "version": "3.8.3"
  }
 },
 "nbformat": 4,
 "nbformat_minor": 4
}
