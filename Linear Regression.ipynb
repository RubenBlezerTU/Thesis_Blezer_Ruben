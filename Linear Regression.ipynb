{
 "cells": [
  {
   "cell_type": "code",
   "execution_count": null,
   "id": "headed-fence",
   "metadata": {},
   "outputs": [],
   "source": []
  },
  {
   "cell_type": "code",
   "execution_count": 1,
   "id": "economic-friend",
   "metadata": {},
   "outputs": [],
   "source": [
    "import pandas as pd\n",
    "import numpy as np\n",
    "\n",
    "from sklearn.preprocessing import MinMaxScaler\n",
    "from sklearn.metrics import r2_score\n",
    "\n",
    "from sklearn.metrics import mean_squared_error\n",
    "\n",
    "from sklearn.model_selection import TimeSeriesSplit\n",
    "from sklearn.model_selection import GridSearchCV\n",
    "from sklearn.svm import SVR\n",
    "\n",
    "from sklearn.model_selection import cross_val_score\n",
    "\n",
    "from sklearn.model_selection import cross_validate\n",
    "\n",
    "\n",
    "from sklearn import preprocessing\n",
    "\n"
   ]
  },
  {
   "cell_type": "code",
   "execution_count": 2,
   "id": "automatic-psychology",
   "metadata": {},
   "outputs": [
    {
     "name": "stdout",
     "output_type": "stream",
     "text": [
      "0     -0.339541\n",
      "1     -0.567556\n",
      "2     -0.522940\n",
      "3     -0.507016\n",
      "4     -0.602941\n",
      "         ...   \n",
      "351    0.199025\n",
      "352    0.390655\n",
      "353    0.185393\n",
      "354    0.503244\n",
      "355    0.219409\n",
      "Name: Electionresult, Length: 1780, dtype: float64\n"
     ]
    }
   ],
   "source": [
    "scaler = MinMaxScaler()\n",
    "\n",
    "\n",
    "\n",
    "df= pd.read_csv(\"DFVariables_Election.csv\", index_col = 0)\n",
    "dftest = pd.read_csv(\"DFVariables_ElectionTEST.csv\", index_col = 0)\n",
    "# display(df)\n",
    "X_train = df[[\"Social benefits\",\"Homeprice\",\"Income\",\"Bankruptcy\",\"Laborforce\"]]\n",
    "y_train = df[\"Electionresult\"]\n",
    "X_train = scaler.fit_transform(X_train)\n",
    "X_test =  dftest[[\"Social benefits\",\"Homeprice\",\"Income\",\"Bankruptcy\",\"Laborforce\"]]\n",
    "y_test = dftest[\"Electionresult\"]\n",
    "X_test = scaler.transform(X_test)"
   ]
  },
  {
   "cell_type": "code",
   "execution_count": 6,
   "id": "binding-crossing",
   "metadata": {},
   "outputs": [
    {
     "name": "stdout",
     "output_type": "stream",
     "text": [
      "0.21571427557227824\n"
     ]
    }
   ],
   "source": [
    "from sklearn.linear_model import LinearRegression\n",
    "\n",
    "regressor = LinearRegression().fit(X_train,y_train)\n",
    "y_pred = regressor.predict(X_test)\n",
    "result = np.sqrt(mean_squared_error(y_test,y_pred))\n",
    "print(result)"
   ]
  },
  {
   "cell_type": "code",
   "execution_count": 7,
   "id": "mexican-gateway",
   "metadata": {},
   "outputs": [
    {
     "data": {
      "text/plain": [
       "0.10391427557227824"
      ]
     },
     "execution_count": 7,
     "metadata": {},
     "output_type": "execute_result"
    }
   ],
   "source": [
    "0.21571427557227824 - 0.1118"
   ]
  },
  {
   "cell_type": "code",
   "execution_count": null,
   "id": "billion-header",
   "metadata": {},
   "outputs": [],
   "source": []
  }
 ],
 "metadata": {
  "kernelspec": {
   "display_name": "Python 3",
   "language": "python",
   "name": "python3"
  },
  "language_info": {
   "codemirror_mode": {
    "name": "ipython",
    "version": 3
   },
   "file_extension": ".py",
   "mimetype": "text/x-python",
   "name": "python",
   "nbconvert_exporter": "python",
   "pygments_lexer": "ipython3",
   "version": "3.8.6"
  }
 },
 "nbformat": 4,
 "nbformat_minor": 5
}
