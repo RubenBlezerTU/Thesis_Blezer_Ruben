{
 "cells": [
  {
   "cell_type": "code",
   "execution_count": 2,
   "metadata": {},
   "outputs": [],
   "source": [
    "import pandas as pd\n",
    "import numpy as np\n",
    "\n",
    "from sklearn.preprocessing import MinMaxScaler\n",
    "from sklearn.metrics import r2_score\n",
    "\n",
    "from sklearn.metrics import mean_squared_error\n",
    "\n",
    "from sklearn.model_selection import TimeSeriesSplit\n",
    "from sklearn.model_selection import GridSearchCV\n",
    "from sklearn.svm import SVR\n",
    "\n",
    "from sklearn.model_selection import cross_val_score\n",
    "\n",
    "from sklearn.model_selection import cross_validate\n",
    "\n",
    "\n",
    "from sklearn import preprocessing\n",
    "\n"
   ]
  },
  {
   "cell_type": "code",
   "execution_count": 79,
   "metadata": {},
   "outputs": [
    {
     "name": "stdout",
     "output_type": "stream",
     "text": [
      "0     -0.339541\n",
      "1     -0.567556\n",
      "2     -0.522940\n",
      "3     -0.507016\n",
      "4     -0.602941\n",
      "         ...   \n",
      "351    0.199025\n",
      "352    0.390655\n",
      "353    0.185393\n",
      "354    0.503244\n",
      "355    0.219409\n",
      "Name: Electionresult, Length: 1780, dtype: float64\n",
      "[[0.36508568 0.79154104 0.96643634 0.3624417  0.55134364]\n",
      " [0.40962339 0.71988625 0.95967766 0.36012095 0.56833568]\n",
      " [0.40243114 0.80574885 0.96669837 0.3408575  0.52183975]\n",
      " ...\n",
      " [0.42552364 0.56518917 0.90875254 0.28312719 0.47334338]\n",
      " [0.44557527 0.55903363 0.90596671 0.28125689 0.43394495]\n",
      " [0.45267247 0.56314651 0.90796716 0.27453467 0.42780533]]\n"
     ]
    }
   ],
   "source": [
    "scaler = MinMaxScaler()\n",
    "\n",
    "\n",
    "\n",
    "df= pd.read_csv(\"DFVariables_Election.csv\", index_col = 0)\n",
    "dftest = pd.read_csv(\"DFVariables_ElectionTEST.csv\", index_col = 0)\n",
    "# display(df)\n",
    "X_train = df[[\"Social benefits\",\"Homeprice\",\"Income\",\"Bankruptcy\",\"Laborforce\"]]\n",
    "y_train = df[\"Electionresult\"]\n",
    "print(y_train)\n",
    "\n",
    "\n",
    "X_train = scaler.fit_transform(X_train)\n",
    "X_test =  dftest[[\"Social benefits\",\"Homeprice\",\"Income\",\"Bankruptcy\",\"Laborforce\"]]\n",
    "y_test = dftest[\"Electionresult\"]\n",
    "X_test = scaler.transform(X_test)\n"
   ]
  },
  {
   "cell_type": "code",
   "execution_count": 73,
   "metadata": {},
   "outputs": [],
   "source": [
    "tscv = TimeSeriesSplit(n_splits = 4)\n",
    "\n",
    "\n",
    "gsc = GridSearchCV(\n",
    "        estimator=SVR(),\n",
    "        param_grid=[{\n",
    "            \"kernel\": [\"rbf\",'linear'],\n",
    "            'C': [0.5, 1 ,5,10,15],\n",
    "            'epsilon': [0.01,0.05, 0.1,0.15,0.2],\n",
    "            'gamma': [ 1,1.5,2.0,2.5, 3.5]\n",
    "        }],\n",
    "        cv=tscv, scoring='neg_root_mean_squared_error', verbose=1, n_jobs=-1)"
   ]
  },
  {
   "cell_type": "code",
   "execution_count": 74,
   "metadata": {},
   "outputs": [
    {
     "name": "stdout",
     "output_type": "stream",
     "text": [
      "Fitting 4 folds for each of 250 candidates, totalling 1000 fits\n",
      "{'C': 15, 'epsilon': 0.1, 'gamma': 3.5, 'kernel': 'rbf'}\n"
     ]
    }
   ],
   "source": [
    "grid_result = gsc.fit(X_train, y_train)\n",
    "best_params = grid_result.best_params_\n",
    "print(best_params)\n"
   ]
  },
  {
   "cell_type": "code",
   "execution_count": 76,
   "metadata": {},
   "outputs": [
    {
     "name": "stdout",
     "output_type": "stream",
     "text": [
      "Cross val r2: \n",
      "[-52.09279879 -12.39714151 -10.8823849  -12.51351834]\n",
      "Cross val r2 mean:\n",
      "-21.971460886360006\n",
      "\n",
      "\n",
      "Cross val RSME: \n",
      "[-0.49181779 -0.30994114 -0.28886618 -0.56213088]\n",
      "Cross val RSME mean: \n",
      "-0.4131889980081286\n",
      "\n",
      "\n",
      "\n",
      "SVR(gamma=9)\n",
      "Cross val r2: \n",
      "[-61.15355716 -11.0043999   -9.91668057 -13.17132931]\n",
      "Cross val r2 mean:\n",
      "-23.811491736929277\n",
      "\n",
      "\n",
      "Cross val RSME: \n",
      "[-0.53213205 -0.2933887  -0.27687911 -0.57565002]\n",
      "Cross val RSME mean: \n",
      "-0.41951246981058904\n"
     ]
    }
   ],
   "source": [
    "regressor = SVR(kernel = \"rbf\",gamma =3.5,C = 15 , epsilon = 0.1)\n",
    "\n",
    "\n",
    "print(\"Cross val r2: \")\n",
    "print(cross_val_score(regressor, X_train,y_train, cv = tscv, scoring = \"r2\"))\n",
    "\n",
    "print(\"Cross val r2 mean:\")\n",
    "print(cross_val_score(regressor, X_train,y_train, cv = tscv, scoring = \"r2\").mean())\n",
    "\n",
    "print(\"\\n\")\n",
    "\n",
    "print(\"Cross val RSME: \")\n",
    "print(cross_val_score(regressor, X_train,y_train, cv = tscv, scoring = \"neg_root_mean_squared_error\"))\n",
    "\n",
    "print(\"Cross val RSME mean: \")\n",
    "print(cross_val_score(regressor, X_train,y_train, cv = tscv, scoring = \"neg_root_mean_squared_error\").mean())\n",
    "\n",
    "\n",
    "regressor = SVR(kernel = \"rbf\",gamma = 9,C = 1.0 , epsilon = 0.1)\n",
    "print(\"\\n\\n\")\n",
    "print(regressor)\n",
    "print(\"Cross val r2: \")\n",
    "print(cross_val_score(regressor, X_train,y_train, cv = tscv, scoring = \"r2\"))\n",
    "\n",
    "print(\"Cross val r2 mean:\")\n",
    "print(cross_val_score(regressor, X_train,y_train, cv = tscv, scoring = \"r2\").mean())\n",
    "\n",
    "print(\"\\n\")\n",
    "\n",
    "print(\"Cross val RSME: \")\n",
    "print(cross_val_score(regressor, X_train,y_train, cv = tscv, scoring = \"neg_root_mean_squared_error\"))\n",
    "\n",
    "print(\"Cross val RSME mean: \")\n",
    "print(cross_val_score(regressor, X_train,y_train, cv = tscv, scoring = \"neg_root_mean_squared_error\").mean())"
   ]
  },
  {
   "cell_type": "code",
   "execution_count": 75,
   "metadata": {},
   "outputs": [
    {
     "name": "stdout",
     "output_type": "stream",
     "text": [
      "R2 train:\n",
      "0.7469301083605842\n",
      "RMSE train:\n",
      "0.17215384419205434\n",
      "R2 test:\n",
      "-1.9284857284288486\n",
      "RMSE test:\n",
      "0.11179284942440552\n"
     ]
    }
   ],
   "source": [
    "regressor = SVR(kernel = \"rbf\",gamma =3.5,C = 15 , epsilon = 0.1)\n",
    "\n",
    "regressor.fit(X = X_train,y = y_train)\n",
    "y_pred= regressor.predict(X_train)\n",
    "\n",
    "print(\"R2 train:\")\n",
    "print(r2_score(y_train,y_pred))\n",
    "print(\"RMSE train:\")\n",
    "print(np.sqrt(mean_squared_error(y_train,y_pred)))\n",
    "y_pred = regressor.predict(X = X_test)\n",
    "print(\"R2 test:\")\n",
    "print(r2_score(y_test,y_pred))\n",
    "print(\"RMSE test:\")\n",
    "print(np.sqrt(mean_squared_error(y_test,y_pred)))\n",
    "\n"
   ]
  }
 ],
 "metadata": {
  "kernelspec": {
   "display_name": "Python 3",
   "language": "python",
   "name": "python3"
  },
  "language_info": {
   "codemirror_mode": {
    "name": "ipython",
    "version": 3
   },
   "file_extension": ".py",
   "mimetype": "text/x-python",
   "name": "python",
   "nbconvert_exporter": "python",
   "pygments_lexer": "ipython3",
   "version": "3.8.6"
  }
 },
 "nbformat": 4,
 "nbformat_minor": 4
}
